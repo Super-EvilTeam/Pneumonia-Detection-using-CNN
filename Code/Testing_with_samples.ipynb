{
 "cells": [
  {
   "cell_type": "code",
   "execution_count": 16,
   "metadata": {},
   "outputs": [
    {
     "ename": "KeyboardInterrupt",
     "evalue": "",
     "output_type": "error",
     "traceback": [
      "\u001b[1;31m---------------------------------------------------------------------------\u001b[0m",
      "\u001b[1;31mKeyboardInterrupt\u001b[0m                         Traceback (most recent call last)",
      "\u001b[1;32me:\\project final year\\pneumonia\\code\\main_code\\sendex.ipynb Cell 1\u001b[0m in \u001b[0;36m<cell line: 14>\u001b[1;34m()\u001b[0m\n\u001b[0;32m     <a href='vscode-notebook-cell:/e%3A/project%20final%20year/pneumonia/code/main_code/sendex.ipynb#W0sZmlsZQ%3D%3D?line=9'>10</a>\u001b[0m     new_array\u001b[39m=\u001b[39mcv2\u001b[39m.\u001b[39mresize(img_array, (IMG_SIZE,IMG_SIZE))\n\u001b[0;32m     <a href='vscode-notebook-cell:/e%3A/project%20final%20year/pneumonia/code/main_code/sendex.ipynb#W0sZmlsZQ%3D%3D?line=10'>11</a>\u001b[0m     \u001b[39mreturn\u001b[39;00m new_array\u001b[39m.\u001b[39mreshape(\u001b[39m-\u001b[39m\u001b[39m1\u001b[39m, IMG_SIZE,IMG_SIZE,\u001b[39m1\u001b[39m)\n\u001b[1;32m---> <a href='vscode-notebook-cell:/e%3A/project%20final%20year/pneumonia/code/main_code/sendex.ipynb#W0sZmlsZQ%3D%3D?line=13'>14</a>\u001b[0m model \u001b[39m=\u001b[39m tf\u001b[39m.\u001b[39;49mkeras\u001b[39m.\u001b[39;49mmodels\u001b[39m.\u001b[39;49mload_model(\u001b[39m'\u001b[39;49m\u001b[39mE:\u001b[39;49m\u001b[39m\\\u001b[39;49m\u001b[39mproject final year\u001b[39;49m\u001b[39m\\\u001b[39;49m\u001b[39mpneumonia\u001b[39;49m\u001b[39m\\\u001b[39;49m\u001b[39mcode\u001b[39;49m\u001b[39m\\\u001b[39;49m\u001b[39mmain_code\u001b[39;49m\u001b[39m\\\u001b[39;49m\u001b[39mp1.h5\u001b[39;49m\u001b[39m'\u001b[39;49m)\n\u001b[0;32m     <a href='vscode-notebook-cell:/e%3A/project%20final%20year/pneumonia/code/main_code/sendex.ipynb#W0sZmlsZQ%3D%3D?line=15'>16</a>\u001b[0m prediction \u001b[39m=\u001b[39m model\u001b[39m.\u001b[39mpredict([prepare(\u001b[39m'\u001b[39m\u001b[39mE:\u001b[39m\u001b[39m\\\u001b[39m\u001b[39mproject final year\u001b[39m\u001b[39m\\\u001b[39m\u001b[39mpneumonia\u001b[39m\u001b[39m\\\u001b[39m\u001b[39mcode\u001b[39m\u001b[39m\\\u001b[39m\u001b[39mCheck_images\u001b[39m\u001b[39m\\\u001b[39m\u001b[39m91bea04d-9dd2-4d2d-8ff5-ff55a3d1122c.webp\u001b[39m\u001b[39m'\u001b[39m)])\n\u001b[0;32m     <a href='vscode-notebook-cell:/e%3A/project%20final%20year/pneumonia/code/main_code/sendex.ipynb#W0sZmlsZQ%3D%3D?line=16'>17</a>\u001b[0m \u001b[39mprint\u001b[39m(prediction)\n",
      "File \u001b[1;32mc:\\Users\\pawar\\AppData\\Local\\Programs\\Python\\Python310\\lib\\site-packages\\keras\\utils\\traceback_utils.py:65\u001b[0m, in \u001b[0;36mfilter_traceback.<locals>.error_handler\u001b[1;34m(*args, **kwargs)\u001b[0m\n\u001b[0;32m     63\u001b[0m filtered_tb \u001b[39m=\u001b[39m \u001b[39mNone\u001b[39;00m\n\u001b[0;32m     64\u001b[0m \u001b[39mtry\u001b[39;00m:\n\u001b[1;32m---> 65\u001b[0m     \u001b[39mreturn\u001b[39;00m fn(\u001b[39m*\u001b[39margs, \u001b[39m*\u001b[39m\u001b[39m*\u001b[39mkwargs)\n\u001b[0;32m     66\u001b[0m \u001b[39mexcept\u001b[39;00m \u001b[39mException\u001b[39;00m \u001b[39mas\u001b[39;00m e:\n\u001b[0;32m     67\u001b[0m     filtered_tb \u001b[39m=\u001b[39m _process_traceback_frames(e\u001b[39m.\u001b[39m__traceback__)\n",
      "File \u001b[1;32mc:\\Users\\pawar\\AppData\\Local\\Programs\\Python\\Python310\\lib\\site-packages\\keras\\saving\\save.py:241\u001b[0m, in \u001b[0;36mload_model\u001b[1;34m(filepath, custom_objects, compile, options)\u001b[0m\n\u001b[0;32m    235\u001b[0m         \u001b[39mif\u001b[39;00m h5py \u001b[39mis\u001b[39;00m \u001b[39mNone\u001b[39;00m:\n\u001b[0;32m    236\u001b[0m             \u001b[39mraise\u001b[39;00m \u001b[39mImportError\u001b[39;00m(\n\u001b[0;32m    237\u001b[0m                 \u001b[39m\"\u001b[39m\u001b[39mFilepath looks like a hdf5 file but h5py is \u001b[39m\u001b[39m\"\u001b[39m\n\u001b[0;32m    238\u001b[0m                 \u001b[39m\"\u001b[39m\u001b[39mnot available.\u001b[39m\u001b[39m\"\u001b[39m\n\u001b[0;32m    239\u001b[0m                 \u001b[39mf\u001b[39m\u001b[39m\"\u001b[39m\u001b[39m filepath=\u001b[39m\u001b[39m{\u001b[39;00mfilepath_str\u001b[39m}\u001b[39;00m\u001b[39m\"\u001b[39m\n\u001b[0;32m    240\u001b[0m             )\n\u001b[1;32m--> 241\u001b[0m         \u001b[39mreturn\u001b[39;00m hdf5_format\u001b[39m.\u001b[39;49mload_model_from_hdf5(\n\u001b[0;32m    242\u001b[0m             tf\u001b[39m.\u001b[39;49mio\u001b[39m.\u001b[39;49mgfile\u001b[39m.\u001b[39;49mGFile(filepath_str, mode\u001b[39m=\u001b[39;49m\u001b[39m\"\u001b[39;49m\u001b[39mrb\u001b[39;49m\u001b[39m\"\u001b[39;49m),\n\u001b[0;32m    243\u001b[0m             custom_objects,\n\u001b[0;32m    244\u001b[0m             \u001b[39mcompile\u001b[39;49m,\n\u001b[0;32m    245\u001b[0m         )\n\u001b[0;32m    246\u001b[0m \u001b[39melif\u001b[39;00m h5py \u001b[39mis\u001b[39;00m \u001b[39mnot\u001b[39;00m \u001b[39mNone\u001b[39;00m \u001b[39mand\u001b[39;00m \u001b[39misinstance\u001b[39m(filepath, h5py\u001b[39m.\u001b[39mFile):\n\u001b[0;32m    247\u001b[0m     \u001b[39mreturn\u001b[39;00m hdf5_format\u001b[39m.\u001b[39mload_model_from_hdf5(\n\u001b[0;32m    248\u001b[0m         filepath, custom_objects, \u001b[39mcompile\u001b[39m\n\u001b[0;32m    249\u001b[0m     )\n",
      "File \u001b[1;32mc:\\Users\\pawar\\AppData\\Local\\Programs\\Python\\Python310\\lib\\site-packages\\keras\\saving\\hdf5_format.py:253\u001b[0m, in \u001b[0;36mload_model_from_hdf5\u001b[1;34m(filepath, custom_objects, compile)\u001b[0m\n\u001b[0;32m    249\u001b[0m optimizer_weight_values \u001b[39m=\u001b[39m (\n\u001b[0;32m    250\u001b[0m     load_optimizer_weights_from_hdf5_group(f)\n\u001b[0;32m    251\u001b[0m )\n\u001b[0;32m    252\u001b[0m \u001b[39mtry\u001b[39;00m:\n\u001b[1;32m--> 253\u001b[0m     model\u001b[39m.\u001b[39;49moptimizer\u001b[39m.\u001b[39;49mset_weights(optimizer_weight_values)\n\u001b[0;32m    254\u001b[0m \u001b[39mexcept\u001b[39;00m \u001b[39mValueError\u001b[39;00m:\n\u001b[0;32m    255\u001b[0m     logging\u001b[39m.\u001b[39mwarning(\n\u001b[0;32m    256\u001b[0m         \u001b[39m\"\u001b[39m\u001b[39mError in loading the saved optimizer \u001b[39m\u001b[39m\"\u001b[39m\n\u001b[0;32m    257\u001b[0m         \u001b[39m\"\u001b[39m\u001b[39mstate. As a result, your model is \u001b[39m\u001b[39m\"\u001b[39m\n\u001b[0;32m    258\u001b[0m         \u001b[39m\"\u001b[39m\u001b[39mstarting with a freshly initialized \u001b[39m\u001b[39m\"\u001b[39m\n\u001b[0;32m    259\u001b[0m         \u001b[39m\"\u001b[39m\u001b[39moptimizer.\u001b[39m\u001b[39m\"\u001b[39m\n\u001b[0;32m    260\u001b[0m     )\n",
      "File \u001b[1;32mc:\\Users\\pawar\\AppData\\Local\\Programs\\Python\\Python310\\lib\\site-packages\\keras\\optimizers\\optimizer_v2\\adam.py:165\u001b[0m, in \u001b[0;36mAdam.set_weights\u001b[1;34m(self, weights)\u001b[0m\n\u001b[0;32m    163\u001b[0m \u001b[39mif\u001b[39;00m \u001b[39mlen\u001b[39m(weights) \u001b[39m==\u001b[39m \u001b[39m3\u001b[39m \u001b[39m*\u001b[39m num_vars \u001b[39m+\u001b[39m \u001b[39m1\u001b[39m:\n\u001b[0;32m    164\u001b[0m     weights \u001b[39m=\u001b[39m weights[: \u001b[39mlen\u001b[39m(params)]\n\u001b[1;32m--> 165\u001b[0m \u001b[39msuper\u001b[39;49m()\u001b[39m.\u001b[39;49mset_weights(weights)\n",
      "File \u001b[1;32mc:\\Users\\pawar\\AppData\\Local\\Programs\\Python\\Python310\\lib\\site-packages\\keras\\optimizers\\optimizer_v2\\optimizer_v2.py:1319\u001b[0m, in \u001b[0;36mOptimizerV2.set_weights\u001b[1;34m(self, weights)\u001b[0m\n\u001b[0;32m   1313\u001b[0m         \u001b[39mraise\u001b[39;00m \u001b[39mValueError\u001b[39;00m(\n\u001b[0;32m   1314\u001b[0m             \u001b[39mf\u001b[39m\u001b[39m\"\u001b[39m\u001b[39mOptimizer weight shape \u001b[39m\u001b[39m{\u001b[39;00m\u001b[39mstr\u001b[39m(pv\u001b[39m.\u001b[39mshape)\u001b[39m}\u001b[39;00m\u001b[39m \u001b[39m\u001b[39m\"\u001b[39m\n\u001b[0;32m   1315\u001b[0m             \u001b[39m\"\u001b[39m\u001b[39mnot compatible with \u001b[39m\u001b[39m\"\u001b[39m\n\u001b[0;32m   1316\u001b[0m             \u001b[39mf\u001b[39m\u001b[39m\"\u001b[39m\u001b[39mprovided weight shape \u001b[39m\u001b[39m{\u001b[39;00m\u001b[39mstr\u001b[39m(w\u001b[39m.\u001b[39mshape)\u001b[39m}\u001b[39;00m\u001b[39m.\u001b[39m\u001b[39m\"\u001b[39m\n\u001b[0;32m   1317\u001b[0m         )\n\u001b[0;32m   1318\u001b[0m     weight_value_tuples\u001b[39m.\u001b[39mappend((p, w))\n\u001b[1;32m-> 1319\u001b[0m backend\u001b[39m.\u001b[39;49mbatch_set_value(weight_value_tuples)\n",
      "File \u001b[1;32mc:\\Users\\pawar\\AppData\\Local\\Programs\\Python\\Python310\\lib\\site-packages\\tensorflow\\python\\util\\traceback_utils.py:150\u001b[0m, in \u001b[0;36mfilter_traceback.<locals>.error_handler\u001b[1;34m(*args, **kwargs)\u001b[0m\n\u001b[0;32m    148\u001b[0m filtered_tb \u001b[39m=\u001b[39m \u001b[39mNone\u001b[39;00m\n\u001b[0;32m    149\u001b[0m \u001b[39mtry\u001b[39;00m:\n\u001b[1;32m--> 150\u001b[0m   \u001b[39mreturn\u001b[39;00m fn(\u001b[39m*\u001b[39margs, \u001b[39m*\u001b[39m\u001b[39m*\u001b[39mkwargs)\n\u001b[0;32m    151\u001b[0m \u001b[39mexcept\u001b[39;00m \u001b[39mException\u001b[39;00m \u001b[39mas\u001b[39;00m e:\n\u001b[0;32m    152\u001b[0m   filtered_tb \u001b[39m=\u001b[39m _process_traceback_frames(e\u001b[39m.\u001b[39m__traceback__)\n",
      "File \u001b[1;32mc:\\Users\\pawar\\AppData\\Local\\Programs\\Python\\Python310\\lib\\site-packages\\tensorflow\\python\\util\\dispatch.py:1176\u001b[0m, in \u001b[0;36madd_dispatch_support.<locals>.decorator.<locals>.op_dispatch_handler\u001b[1;34m(*args, **kwargs)\u001b[0m\n\u001b[0;32m   1174\u001b[0m \u001b[39m# Fallback dispatch system (dispatch v1):\u001b[39;00m\n\u001b[0;32m   1175\u001b[0m \u001b[39mtry\u001b[39;00m:\n\u001b[1;32m-> 1176\u001b[0m   \u001b[39mreturn\u001b[39;00m dispatch_target(\u001b[39m*\u001b[39margs, \u001b[39m*\u001b[39m\u001b[39m*\u001b[39mkwargs)\n\u001b[0;32m   1177\u001b[0m \u001b[39mexcept\u001b[39;00m (\u001b[39mTypeError\u001b[39;00m, \u001b[39mValueError\u001b[39;00m):\n\u001b[0;32m   1178\u001b[0m   \u001b[39m# Note: convert_to_eager_tensor currently raises a ValueError, not a\u001b[39;00m\n\u001b[0;32m   1179\u001b[0m   \u001b[39m# TypeError, when given unexpected types.  So we need to catch both.\u001b[39;00m\n\u001b[0;32m   1180\u001b[0m   result \u001b[39m=\u001b[39m dispatch(op_dispatch_handler, args, kwargs)\n",
      "File \u001b[1;32mc:\\Users\\pawar\\AppData\\Local\\Programs\\Python\\Python310\\lib\\site-packages\\keras\\backend.py:4302\u001b[0m, in \u001b[0;36mbatch_set_value\u001b[1;34m(tuples)\u001b[0m\n\u001b[0;32m   4300\u001b[0m \u001b[39mif\u001b[39;00m tf\u001b[39m.\u001b[39mexecuting_eagerly() \u001b[39mor\u001b[39;00m tf\u001b[39m.\u001b[39minside_function():\n\u001b[0;32m   4301\u001b[0m     \u001b[39mfor\u001b[39;00m x, value \u001b[39min\u001b[39;00m tuples:\n\u001b[1;32m-> 4302\u001b[0m         x\u001b[39m.\u001b[39massign(np\u001b[39m.\u001b[39;49masarray(value, dtype\u001b[39m=\u001b[39;49mdtype_numpy(x)))\n\u001b[0;32m   4303\u001b[0m \u001b[39melse\u001b[39;00m:\n\u001b[0;32m   4304\u001b[0m     \u001b[39mwith\u001b[39;00m get_graph()\u001b[39m.\u001b[39mas_default():\n",
      "File \u001b[1;32mh5py\\_objects.pyx:54\u001b[0m, in \u001b[0;36mh5py._objects.with_phil.wrapper\u001b[1;34m()\u001b[0m\n",
      "File \u001b[1;32mh5py\\_objects.pyx:55\u001b[0m, in \u001b[0;36mh5py._objects.with_phil.wrapper\u001b[1;34m()\u001b[0m\n",
      "File \u001b[1;32mc:\\Users\\pawar\\AppData\\Local\\Programs\\Python\\Python310\\lib\\site-packages\\h5py\\_hl\\dataset.py:1046\u001b[0m, in \u001b[0;36mDataset.__array__\u001b[1;34m(self, dtype)\u001b[0m\n\u001b[0;32m   1043\u001b[0m \u001b[39mif\u001b[39;00m numpy\u001b[39m.\u001b[39mproduct(\u001b[39mself\u001b[39m\u001b[39m.\u001b[39mshape, dtype\u001b[39m=\u001b[39mnumpy\u001b[39m.\u001b[39mulonglong) \u001b[39m==\u001b[39m \u001b[39m0\u001b[39m:\n\u001b[0;32m   1044\u001b[0m     \u001b[39mreturn\u001b[39;00m arr\n\u001b[1;32m-> 1046\u001b[0m \u001b[39mself\u001b[39;49m\u001b[39m.\u001b[39;49mread_direct(arr)\n\u001b[0;32m   1047\u001b[0m \u001b[39mreturn\u001b[39;00m arr\n",
      "File \u001b[1;32mc:\\Users\\pawar\\AppData\\Local\\Programs\\Python\\Python310\\lib\\site-packages\\h5py\\_hl\\dataset.py:1007\u001b[0m, in \u001b[0;36mDataset.read_direct\u001b[1;34m(self, dest, source_sel, dest_sel)\u001b[0m\n\u001b[0;32m   1004\u001b[0m     dest_sel \u001b[39m=\u001b[39m sel\u001b[39m.\u001b[39mselect(dest\u001b[39m.\u001b[39mshape, dest_sel)\n\u001b[0;32m   1006\u001b[0m \u001b[39mfor\u001b[39;00m mspace \u001b[39min\u001b[39;00m dest_sel\u001b[39m.\u001b[39mbroadcast(source_sel\u001b[39m.\u001b[39marray_shape):\n\u001b[1;32m-> 1007\u001b[0m     \u001b[39mself\u001b[39;49m\u001b[39m.\u001b[39;49mid\u001b[39m.\u001b[39;49mread(mspace, fspace, dest, dxpl\u001b[39m=\u001b[39;49m\u001b[39mself\u001b[39;49m\u001b[39m.\u001b[39;49m_dxpl)\n",
      "File \u001b[1;32mh5py\\_objects.pyx:54\u001b[0m, in \u001b[0;36mh5py._objects.with_phil.wrapper\u001b[1;34m()\u001b[0m\n",
      "File \u001b[1;32mh5py\\_objects.pyx:55\u001b[0m, in \u001b[0;36mh5py._objects.with_phil.wrapper\u001b[1;34m()\u001b[0m\n",
      "File \u001b[1;32mh5py\\h5d.pyx:192\u001b[0m, in \u001b[0;36mh5py.h5d.DatasetID.read\u001b[1;34m()\u001b[0m\n",
      "File \u001b[1;32mh5py\\_proxy.pyx:112\u001b[0m, in \u001b[0;36mh5py._proxy.dset_rw\u001b[1;34m()\u001b[0m\n",
      "File \u001b[1;32mh5py\\h5fd.pyx:165\u001b[0m, in \u001b[0;36mh5py.h5fd.H5FD_fileobj_read\u001b[1;34m()\u001b[0m\n",
      "File \u001b[1;32mc:\\Users\\pawar\\AppData\\Local\\Programs\\Python\\Python310\\lib\\site-packages\\tensorflow\\python\\lib\\io\\file_io.py:119\u001b[0m, in \u001b[0;36mFileIO.read\u001b[1;34m(self, n)\u001b[0m\n\u001b[0;32m    117\u001b[0m \u001b[39melse\u001b[39;00m:\n\u001b[0;32m    118\u001b[0m   length \u001b[39m=\u001b[39m n\n\u001b[1;32m--> 119\u001b[0m \u001b[39mreturn\u001b[39;00m \u001b[39mself\u001b[39m\u001b[39m.\u001b[39m_prepare_value(\u001b[39mself\u001b[39;49m\u001b[39m.\u001b[39;49m_read_buf\u001b[39m.\u001b[39;49mread(length))\n",
      "\u001b[1;31mKeyboardInterrupt\u001b[0m: "
     ]
    }
   ],
   "source": [
    "import cv2\n",
    "import tensorflow as tf\n",
    "\n",
    "CATEGORIES = ['Affected','Normal']\n",
    "\n",
    "\n",
    "def prepare(filepath):\n",
    "    IMG_SIZE = 224\n",
    "    img_array =cv2.imread(filepath, cv2.IMREAD_GRAYSCALE)\n",
    "    new_array=cv2.resize(img_array, (IMG_SIZE,IMG_SIZE))\n",
    "    return new_array.reshape(-1, IMG_SIZE,IMG_SIZE,1)\n",
    "\n",
    "\n",
    "model = tf.keras.models.load_model('E:\\project final year\\pneumonia\\code\\main_code\\p1.h5')\n",
    "\n",
    "prediction = model.predict([prepare('E:\\project final year\\pneumonia\\code\\Check_images\\91bea04d-9dd2-4d2d-8ff5-ff55a3d1122c.webp')])\n",
    "print(prediction)"
   ]
  },
  {
   "cell_type": "code",
   "execution_count": 20,
   "metadata": {},
   "outputs": [
    {
     "name": "stdout",
     "output_type": "stream",
     "text": [
      "1/1 [==============================] - 0s 35ms/step\n",
      "Normal\n"
     ]
    }
   ],
   "source": [
    "CATEGORIES = ['Affected','Normal']\n",
    "\n",
    "prediction = model.predict([prepare(r'E:\\project final year\\pneumonia\\code\\Check_images\\normal_chest_xray.jpeg')])\n",
    "print(CATEGORIES[int(prediction[0][0])])"
   ]
  }
 ],
 "metadata": {
  "kernelspec": {
   "display_name": "Python 3.10.6 64-bit",
   "language": "python",
   "name": "python3"
  },
  "language_info": {
   "codemirror_mode": {
    "name": "ipython",
    "version": 3
   },
   "file_extension": ".py",
   "mimetype": "text/x-python",
   "name": "python",
   "nbconvert_exporter": "python",
   "pygments_lexer": "ipython3",
   "version": "3.10.6"
  },
  "orig_nbformat": 4,
  "vscode": {
   "interpreter": {
    "hash": "f37b10b4aee3be63c4d9ea9d275c8281579a4ed21e3dacc8f454094aecc2b000"
   }
  }
 },
 "nbformat": 4,
 "nbformat_minor": 2
}
