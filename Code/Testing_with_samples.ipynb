{
 "cells": [
  {
   "cell_type": "code",
   "execution_count": 7,
   "metadata": {},
   "outputs": [],
   "source": [
    "import cv2\n",
    "import tensorflow as tf\n",
    "\n",
    "CATEGORIES = ['Affected','Normal']\n",
    "\n",
    "\n",
    "def prepare(filepath):\n",
    "    IMG_SIZE = 224\n",
    "    img_array =cv2.imread(filepath, cv2.IMREAD_GRAYSCALE)\n",
    "    new_array=cv2.resize(img_array, (IMG_SIZE,IMG_SIZE))\n",
    "    return new_array.reshape(-1, IMG_SIZE,IMG_SIZE,1)\n",
    "\n",
    "\n",
    "model = tf.keras.models.load_model('E:\\project final year\\pneumonia\\code\\main_code\\p1.h5')\n"
   ]
  },
  {
   "cell_type": "code",
   "execution_count": 22,
   "metadata": {},
   "outputs": [
    {
     "name": "stdout",
     "output_type": "stream",
     "text": [
      "1/1 [==============================] - 0s 38ms/step\n",
      "Normal\n",
      "1.0\n"
     ]
    }
   ],
   "source": [
    "prediction = model.predict([prepare(r'E:\\project final year\\pneumonia\\code\\Image_for_testing\\Normal\\f12063879a29e672f675977fabdc89_jumbo.jpeg')])\n",
    "print(CATEGORIES[int(prediction[0][0])])\n",
    "print(prediction[0][0])"
   ]
  }
 ],
 "metadata": {
  "kernelspec": {
   "display_name": "Python 3.10.6 64-bit",
   "language": "python",
   "name": "python3"
  },
  "language_info": {
   "codemirror_mode": {
    "name": "ipython",
    "version": 3
   },
   "file_extension": ".py",
   "mimetype": "text/x-python",
   "name": "python",
   "nbconvert_exporter": "python",
   "pygments_lexer": "ipython3",
   "version": "3.10.6"
  },
  "orig_nbformat": 4,
  "vscode": {
   "interpreter": {
    "hash": "f37b10b4aee3be63c4d9ea9d275c8281579a4ed21e3dacc8f454094aecc2b000"
   }
  }
 },
 "nbformat": 4,
 "nbformat_minor": 2
}
